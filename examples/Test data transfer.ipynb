{
 "cells": [
  {
   "cell_type": "code",
   "execution_count": 4,
   "metadata": {},
   "outputs": [],
   "source": [
    "from odoo_transfer_lib import *\n",
    "\n",
    "# Import Client and Session classes\n",
    "from odoo_rpc_client import Client"
   ]
  },
  {
   "cell_type": "code",
   "execution_count": 12,
   "metadata": {},
   "outputs": [],
   "source": [
    "cl_from = Client(host='localhost', port=11069, dbname='odoo11-odoo-test', user='admin', pwd='admin')\n",
    "cl_to = Client(host='localhost', port=11169, dbname='test-data-transfer', user='admin', pwd='admin')"
   ]
  },
  {
   "cell_type": "code",
   "execution_count": 13,
   "metadata": {},
   "outputs": [],
   "source": [
    "# Ensure connected\n",
    "assert cl_from.uid\n",
    "assert cl_to.uid"
   ]
  },
  {
   "cell_type": "markdown",
   "metadata": {},
   "source": [
    "# Define models to transfer"
   ]
  },
  {
   "cell_type": "code",
   "execution_count": 16,
   "metadata": {},
   "outputs": [],
   "source": [
    "class TResCurrency(TransferModel):\n",
    "    model = 'res.currency'\n",
    "    transfer_fields = ['name', 'symbol', 'active']\n",
    "    link_field = 'name'\n",
    "    auto_populate_cache = True\n",
    "    \n",
    "\n",
    "class TPricelistModel(TransferModel):\n",
    "    model = 'product.pricelist'\n",
    "    transfer_fields = ['active', 'name', 'currency_id']\n",
    "    auto_populate_cache = True\n",
    "\n",
    "    def get_search_domain(self, pricelist):\n",
    "        return [('name', '=', pricelist.name),\n",
    "                ('currency_id', '=', pricelist.currency_id.name)]\n",
    "\n",
    "\n",
    "class TPartnerCategoryModel(TransferModel):\n",
    "    model = 'res.partner.category'\n",
    "    transfer_fields = [\n",
    "        'active', 'name', 'parent_id'\n",
    "    ]\n",
    "    auto_populate_cache = True\n",
    "\n",
    "    def get_search_domain(self, category):\n",
    "        domain = [('name', '=', category.name)]\n",
    "        level = 1\n",
    "        parent = category.parent_id\n",
    "        while parent:\n",
    "            parent_field = 'parent_id.' * level + 'name'\n",
    "            domain += [(parent_field, '=', parent.name)]\n",
    "            parent = parent.parent_id\n",
    "            level += 1\n",
    "        return domain\n",
    "    \n",
    "class TCRMTeamModel(TransferModel):\n",
    "    model = 'crm.team'\n",
    "\n",
    "    transfer_fields = [\n",
    "        'active', 'name', 'user_id',\n",
    "    ]\n",
    "    auto_populate_cache = True\n",
    "\n",
    "    # link records by field 'code'\n",
    "    link_field = 'name'\n",
    "\n",
    "\n",
    "class TResPartnerModel(TransferModel):\n",
    "    model = 'res.partner'\n",
    "    auto_populate_cache = True\n",
    "    populate_cache_domain = [('ref', '!=', False)]\n",
    "\n",
    "    # auto_transfer_fields\n",
    "    auto_transfer_enabled = False\n",
    "    auto_transfer_domain = []\n",
    "    auto_transfer_priority = 7\n",
    "    # ---\n",
    "\n",
    "    link_field = 'ref'\n",
    "\n",
    "    transfer_fields = [\n",
    "        'category_id', 'city', 'color', 'comment', 'country_id',\n",
    "        'customer', 'date', 'email', 'function', 'is_company', 'mobile',\n",
    "        'name', 'parent_id', 'phone', 'ref', 'street', 'street2', 'supplier', 'title',\n",
    "        'type', 'tz', 'user_id', 'vat', 'website', 'zip',\n",
    "        'active',\n",
    "        # --- Pricelists\n",
    "        'property_product_pricelist',\n",
    "\n",
    "    ]\n",
    "\n",
    "    def prepare_to_transfer(self, partner):\n",
    "        super(TResPartnerModel, self).prepare_to_transfer(partner)\n",
    "        if not partner.ref:\n",
    "            x_ref = 'x-import-ref-%s' % partner.id\n",
    "            partner.write({'ref': x_ref})\n",
    "            partner._data['ref'] = x_ref  # little hack to not refresh each time\n",
    "\n",
    "\n",
    "class TResCountryModel(TransferModel):\n",
    "    model = 'res.country'\n",
    "    auto_populate_cache = True\n",
    "    link_field = 'code'\n",
    "\n",
    "\n",
    "class TProductCategory(TransferModel):\n",
    "    model = 'product.category'\n",
    "    transfer_fields = [\n",
    "        'name',\n",
    "        'parent_id',\n",
    "    ]\n",
    "    auto_populate_cache = True\n",
    "\n",
    "    def get_search_domain(self, category):\n",
    "        domain = [('name', '=', category.name)]\n",
    "        level = 1\n",
    "        parent = category.parent_id\n",
    "        while parent:\n",
    "            parent_field = 'parent_id.' * level + 'name'\n",
    "            domain += [(parent_field, '=', parent.name)]\n",
    "            parent = parent.parent_id\n",
    "            level += 1\n",
    "        return domain\n",
    "    \n",
    "class TProductUOMModel(TransferModel):\n",
    "    model = 'product.uom'\n",
    "    auto_populate_cache = True\n",
    "    link_field = 'name'\n",
    "\n",
    "    \n",
    "class TProductSupplierInfoModel(TransferModel):\n",
    "    model = 'product.supplierinfo'\n",
    "    transfer_fields = [\n",
    "        'delay',\n",
    "        'min_qty',\n",
    "        'sequence',\n",
    "        'name',\n",
    "        'product_code',\n",
    "        'product_name'\n",
    "    ]\n",
    "\n",
    "    \n",
    "class TProductModel(TransferModel):\n",
    "    model = 'product.product'\n",
    "    transfer_fields = [\n",
    "        'uom_po_id',\n",
    "        'uom_id',\n",
    "        'active',\n",
    "        'purchase_ok',\n",
    "        'categ_id',\n",
    "        'description',\n",
    "        'name',\n",
    "        'description_sale',\n",
    "        #'seller_ids',\n",
    "        'volume',\n",
    "        'type',\n",
    "        'sale_ok',\n",
    "        'default_code',\n",
    "        'weight',\n",
    "        'image',\n",
    "        # ---\n",
    "        # 'manufacturer', 'standard_price', 'list_price',\n",
    "    ]\n",
    "    link_field = 'default_code'\n",
    "\n",
    "    auto_populate_cache = True\n",
    "    populate_cache_domain = [('default_code', '!=', False)]\n",
    "\n",
    "    # auto_transfer_fields\n",
    "    auto_transfer_enabled = True\n",
    "    auto_transfer_domain = []\n",
    "    auto_transfer_priority = 10\n",
    "    auto_transfer_xmlids = True\n",
    "    # ---\n",
    "\n",
    "    def prepare_to_transfer(self, product):\n",
    "        super(TProductModel, self).prepare_to_transfer(product)\n",
    "        if not product.default_code:\n",
    "            default_code = \"auto-code-%s\" % product.id\n",
    "            product.write({'default_code': default_code})\n",
    "            product._data['default_code'] = default_code\n",
    "\n",
    "            \n"
   ]
  },
  {
   "cell_type": "markdown",
   "metadata": {},
   "source": [
    "# Transfer Data"
   ]
  },
  {
   "cell_type": "code",
   "execution_count": 17,
   "metadata": {},
   "outputs": [
    {
     "data": {
      "application/vnd.jupyter.widget-view+json": {
       "model_id": "",
       "version_major": 2,
       "version_minor": 0
      },
      "text/plain": [
       "IntProgress(value=0, description='             res.currency: cached [   0 of  170 records] (total 0.00 sec (0.…"
      ]
     },
     "metadata": {},
     "output_type": "display_data"
    },
    {
     "data": {
      "application/vnd.jupyter.widget-view+json": {
       "model_id": "",
       "version_major": 2,
       "version_minor": 0
      },
      "text/plain": [
       "IntProgress(value=0, description='        product.pricelist: cached [   0 of    1 records] (total 0.00 sec (0.…"
      ]
     },
     "metadata": {},
     "output_type": "display_data"
    },
    {
     "data": {
      "application/vnd.jupyter.widget-view+json": {
       "model_id": "",
       "version_major": 2,
       "version_minor": 0
      },
      "text/plain": [
       "IntProgress(value=0, description='     res.partner.category: cached [   0 of    0 records] (total 0.00 sec (0.…"
      ]
     },
     "metadata": {},
     "output_type": "display_data"
    },
    {
     "data": {
      "application/vnd.jupyter.widget-view+json": {
       "model_id": "",
       "version_major": 2,
       "version_minor": 0
      },
      "text/plain": [
       "IntProgress(value=0, description='                 crm.team: cached [   0 of    2 records] (total 0.00 sec (0.…"
      ]
     },
     "metadata": {},
     "output_type": "display_data"
    },
    {
     "data": {
      "application/vnd.jupyter.widget-view+json": {
       "model_id": "",
       "version_major": 2,
       "version_minor": 0
      },
      "text/plain": [
       "IntProgress(value=0, description='              res.partner: cached [   0 of    0 records] (total 0.00 sec (0.…"
      ]
     },
     "metadata": {},
     "output_type": "display_data"
    },
    {
     "data": {
      "application/vnd.jupyter.widget-view+json": {
       "model_id": "",
       "version_major": 2,
       "version_minor": 0
      },
      "text/plain": [
       "IntProgress(value=0, description='              res.country: cached [   0 of  250 records] (total 0.00 sec (0.…"
      ]
     },
     "metadata": {},
     "output_type": "display_data"
    },
    {
     "data": {
      "application/vnd.jupyter.widget-view+json": {
       "model_id": "",
       "version_major": 2,
       "version_minor": 0
      },
      "text/plain": [
       "IntProgress(value=0, description='         product.category: cached [   0 of    2 records] (total 0.00 sec (0.…"
      ]
     },
     "metadata": {},
     "output_type": "display_data"
    },
    {
     "data": {
      "application/vnd.jupyter.widget-view+json": {
       "model_id": "",
       "version_major": 2,
       "version_minor": 0
      },
      "text/plain": [
       "IntProgress(value=0, description='              product.uom: cached [   0 of   19 records] (total 0.00 sec (0.…"
      ]
     },
     "metadata": {},
     "output_type": "display_data"
    },
    {
     "data": {
      "application/vnd.jupyter.widget-view+json": {
       "model_id": "",
       "version_major": 2,
       "version_minor": 0
      },
      "text/plain": [
       "IntProgress(value=0, description='          product.product: cached [   0 of    0 records] (total 0.00 sec (0.…"
      ]
     },
     "metadata": {},
     "output_type": "display_data"
    },
    {
     "data": {
      "application/vnd.jupyter.widget-view+json": {
       "model_id": "ab534510a97240e596aa2d648f16d20a",
       "version_major": 2,
       "version_minor": 0
      },
      "text/plain": [
       "IntProgress(value=0, description='          product.product: transfered [   0 of   47 records] (total 0.00 sec…"
      ]
     },
     "metadata": {},
     "output_type": "display_data"
    },
    {
     "data": {
      "text/plain": [
       "{'created': {'res.currency': 0,\n",
       "  'product.pricelist': 0,\n",
       "  'res.partner.category': 0,\n",
       "  'crm.team': 0,\n",
       "  'res.partner': 0,\n",
       "  'res.country': 0,\n",
       "  'product.category': 3,\n",
       "  'product.uom': 0,\n",
       "  'product.supplierinfo': 0,\n",
       "  'product.product': 47}}"
      ]
     },
     "execution_count": 17,
     "metadata": {},
     "output_type": "execute_result"
    }
   ],
   "source": [
    "transfer = Transfer(cl_from, cl_to, simplified_checks=True)\n",
    "transfer.auto_transfer()\n",
    "transfer.stat"
   ]
  }
 ],
 "metadata": {
  "kernelspec": {
   "display_name": "Python 3",
   "language": "python",
   "name": "python3"
  },
  "language_info": {
   "codemirror_mode": {
    "name": "ipython",
    "version": 3
   },
   "file_extension": ".py",
   "mimetype": "text/x-python",
   "name": "python",
   "nbconvert_exporter": "python",
   "pygments_lexer": "ipython3",
   "version": "3.7.3"
  }
 },
 "nbformat": 4,
 "nbformat_minor": 2
}
